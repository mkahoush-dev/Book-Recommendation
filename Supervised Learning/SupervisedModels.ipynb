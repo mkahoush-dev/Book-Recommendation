{
  "cells": [
    {
      "cell_type": "code",
      "execution_count": null,
      "metadata": {
        "id": "wyi7SJxBhr_W"
      },
      "outputs": [],
      "source": [
        "import gzip\n",
        "import json\n",
        "import pandas as pd\n",
        "from sklearn import preprocessing\n",
        "import numpy as np\n",
        "import re\n",
        "from sklearn.compose import ColumnTransformer\n",
        "from sklearn.feature_extraction.text import TfidfVectorizer\n",
        "from sklearn.preprocessing import OneHotEncoder"
      ]
    },
    {
      "cell_type": "code",
      "execution_count": null,
      "metadata": {
        "colab": {
          "base_uri": "https://localhost:8080/"
        },
        "id": "XDzTd56q3mBd",
        "outputId": "15c17138-3916-41b0-dce2-99e034e96474"
      },
      "outputs": [
        {
          "output_type": "stream",
          "name": "stdout",
          "text": [
            "Drive already mounted at /content/drive; to attempt to forcibly remount, call drive.mount(\"/content/drive\", force_remount=True).\n"
          ]
        }
      ],
      "source": [
        "from google.colab import drive\n",
        "drive.mount('/content/drive')"
      ]
    },
    {
      "cell_type": "code",
      "execution_count": null,
      "metadata": {
        "colab": {
          "base_uri": "https://localhost:8080/",
          "height": 337
        },
        "id": "hhmYQywnh4Qb",
        "outputId": "b0950717-e6f9-4a6f-acac-7f72ec6d9e21"
      },
      "outputs": [
        {
          "output_type": "execute_result",
          "data": {
            "text/plain": [
              "   Unnamed: 0  book_id                                              title  \\\n",
              "0           0  1333909                                        Good Harbor   \n",
              "1           1  7327624  The Unschooled Wizard (Sun Wolf and Starhawk, ...   \n",
              "2           2  6066819                               Best Friends Forever   \n",
              "3           3   287140  Runic Astrology: Starcraft and Timekeeping in ...   \n",
              "4           4   287141                      The Aeneid for Boys and Girls   \n",
              "\n",
              "   ratings  average_rating       genre  \\\n",
              "0       10            3.23     fiction   \n",
              "1      140            4.03     fantasy   \n",
              "2    51184            3.49     fiction   \n",
              "3       15            3.40  nonfiction   \n",
              "4       46            4.13     fantasy   \n",
              "\n",
              "                                           mod_title  n_votes  \\\n",
              "0                                        good harbor        0   \n",
              "1     the unschooled wizard sun wolf and starhawk 12        1   \n",
              "2                               best friends forever       13   \n",
              "3  runic astrology starcraft and timekeeping in t...        0   \n",
              "4                      the aeneid for boys and girls        0   \n",
              "\n",
              "                                         review_text  \n",
              "0  reviewers havent say mediocre cliches decent r...  \n",
              "1  competent sure read half years funniest twosto...  \n",
              "2  okay guy know love jennifer weiner go probably...  \n",
              "3  enjoy book rune student half decades enjoy dif...  \n",
              "4                      kid love book ancient history  "
            ],
            "text/html": [
              "\n",
              "  <div id=\"df-37c3a76b-7e7d-428e-af47-f4af7c226d90\">\n",
              "    <div class=\"colab-df-container\">\n",
              "      <div>\n",
              "<style scoped>\n",
              "    .dataframe tbody tr th:only-of-type {\n",
              "        vertical-align: middle;\n",
              "    }\n",
              "\n",
              "    .dataframe tbody tr th {\n",
              "        vertical-align: top;\n",
              "    }\n",
              "\n",
              "    .dataframe thead th {\n",
              "        text-align: right;\n",
              "    }\n",
              "</style>\n",
              "<table border=\"1\" class=\"dataframe\">\n",
              "  <thead>\n",
              "    <tr style=\"text-align: right;\">\n",
              "      <th></th>\n",
              "      <th>Unnamed: 0</th>\n",
              "      <th>book_id</th>\n",
              "      <th>title</th>\n",
              "      <th>ratings</th>\n",
              "      <th>average_rating</th>\n",
              "      <th>genre</th>\n",
              "      <th>mod_title</th>\n",
              "      <th>n_votes</th>\n",
              "      <th>review_text</th>\n",
              "    </tr>\n",
              "  </thead>\n",
              "  <tbody>\n",
              "    <tr>\n",
              "      <th>0</th>\n",
              "      <td>0</td>\n",
              "      <td>1333909</td>\n",
              "      <td>Good Harbor</td>\n",
              "      <td>10</td>\n",
              "      <td>3.23</td>\n",
              "      <td>fiction</td>\n",
              "      <td>good harbor</td>\n",
              "      <td>0</td>\n",
              "      <td>reviewers havent say mediocre cliches decent r...</td>\n",
              "    </tr>\n",
              "    <tr>\n",
              "      <th>1</th>\n",
              "      <td>1</td>\n",
              "      <td>7327624</td>\n",
              "      <td>The Unschooled Wizard (Sun Wolf and Starhawk, ...</td>\n",
              "      <td>140</td>\n",
              "      <td>4.03</td>\n",
              "      <td>fantasy</td>\n",
              "      <td>the unschooled wizard sun wolf and starhawk 12</td>\n",
              "      <td>1</td>\n",
              "      <td>competent sure read half years funniest twosto...</td>\n",
              "    </tr>\n",
              "    <tr>\n",
              "      <th>2</th>\n",
              "      <td>2</td>\n",
              "      <td>6066819</td>\n",
              "      <td>Best Friends Forever</td>\n",
              "      <td>51184</td>\n",
              "      <td>3.49</td>\n",
              "      <td>fiction</td>\n",
              "      <td>best friends forever</td>\n",
              "      <td>13</td>\n",
              "      <td>okay guy know love jennifer weiner go probably...</td>\n",
              "    </tr>\n",
              "    <tr>\n",
              "      <th>3</th>\n",
              "      <td>3</td>\n",
              "      <td>287140</td>\n",
              "      <td>Runic Astrology: Starcraft and Timekeeping in ...</td>\n",
              "      <td>15</td>\n",
              "      <td>3.40</td>\n",
              "      <td>nonfiction</td>\n",
              "      <td>runic astrology starcraft and timekeeping in t...</td>\n",
              "      <td>0</td>\n",
              "      <td>enjoy book rune student half decades enjoy dif...</td>\n",
              "    </tr>\n",
              "    <tr>\n",
              "      <th>4</th>\n",
              "      <td>4</td>\n",
              "      <td>287141</td>\n",
              "      <td>The Aeneid for Boys and Girls</td>\n",
              "      <td>46</td>\n",
              "      <td>4.13</td>\n",
              "      <td>fantasy</td>\n",
              "      <td>the aeneid for boys and girls</td>\n",
              "      <td>0</td>\n",
              "      <td>kid love book ancient history</td>\n",
              "    </tr>\n",
              "  </tbody>\n",
              "</table>\n",
              "</div>\n",
              "      <button class=\"colab-df-convert\" onclick=\"convertToInteractive('df-37c3a76b-7e7d-428e-af47-f4af7c226d90')\"\n",
              "              title=\"Convert this dataframe to an interactive table.\"\n",
              "              style=\"display:none;\">\n",
              "        \n",
              "  <svg xmlns=\"http://www.w3.org/2000/svg\" height=\"24px\"viewBox=\"0 0 24 24\"\n",
              "       width=\"24px\">\n",
              "    <path d=\"M0 0h24v24H0V0z\" fill=\"none\"/>\n",
              "    <path d=\"M18.56 5.44l.94 2.06.94-2.06 2.06-.94-2.06-.94-.94-2.06-.94 2.06-2.06.94zm-11 1L8.5 8.5l.94-2.06 2.06-.94-2.06-.94L8.5 2.5l-.94 2.06-2.06.94zm10 10l.94 2.06.94-2.06 2.06-.94-2.06-.94-.94-2.06-.94 2.06-2.06.94z\"/><path d=\"M17.41 7.96l-1.37-1.37c-.4-.4-.92-.59-1.43-.59-.52 0-1.04.2-1.43.59L10.3 9.45l-7.72 7.72c-.78.78-.78 2.05 0 2.83L4 21.41c.39.39.9.59 1.41.59.51 0 1.02-.2 1.41-.59l7.78-7.78 2.81-2.81c.8-.78.8-2.07 0-2.86zM5.41 20L4 18.59l7.72-7.72 1.47 1.35L5.41 20z\"/>\n",
              "  </svg>\n",
              "      </button>\n",
              "      \n",
              "  <style>\n",
              "    .colab-df-container {\n",
              "      display:flex;\n",
              "      flex-wrap:wrap;\n",
              "      gap: 12px;\n",
              "    }\n",
              "\n",
              "    .colab-df-convert {\n",
              "      background-color: #E8F0FE;\n",
              "      border: none;\n",
              "      border-radius: 50%;\n",
              "      cursor: pointer;\n",
              "      display: none;\n",
              "      fill: #1967D2;\n",
              "      height: 32px;\n",
              "      padding: 0 0 0 0;\n",
              "      width: 32px;\n",
              "    }\n",
              "\n",
              "    .colab-df-convert:hover {\n",
              "      background-color: #E2EBFA;\n",
              "      box-shadow: 0px 1px 2px rgba(60, 64, 67, 0.3), 0px 1px 3px 1px rgba(60, 64, 67, 0.15);\n",
              "      fill: #174EA6;\n",
              "    }\n",
              "\n",
              "    [theme=dark] .colab-df-convert {\n",
              "      background-color: #3B4455;\n",
              "      fill: #D2E3FC;\n",
              "    }\n",
              "\n",
              "    [theme=dark] .colab-df-convert:hover {\n",
              "      background-color: #434B5C;\n",
              "      box-shadow: 0px 1px 3px 1px rgba(0, 0, 0, 0.15);\n",
              "      filter: drop-shadow(0px 1px 2px rgba(0, 0, 0, 0.3));\n",
              "      fill: #FFFFFF;\n",
              "    }\n",
              "  </style>\n",
              "\n",
              "      <script>\n",
              "        const buttonEl =\n",
              "          document.querySelector('#df-37c3a76b-7e7d-428e-af47-f4af7c226d90 button.colab-df-convert');\n",
              "        buttonEl.style.display =\n",
              "          google.colab.kernel.accessAllowed ? 'block' : 'none';\n",
              "\n",
              "        async function convertToInteractive(key) {\n",
              "          const element = document.querySelector('#df-37c3a76b-7e7d-428e-af47-f4af7c226d90');\n",
              "          const dataTable =\n",
              "            await google.colab.kernel.invokeFunction('convertToInteractive',\n",
              "                                                     [key], {});\n",
              "          if (!dataTable) return;\n",
              "\n",
              "          const docLinkHtml = 'Like what you see? Visit the ' +\n",
              "            '<a target=\"_blank\" href=https://colab.research.google.com/notebooks/data_table.ipynb>data table notebook</a>'\n",
              "            + ' to learn more about interactive tables.';\n",
              "          element.innerHTML = '';\n",
              "          dataTable['output_type'] = 'display_data';\n",
              "          await google.colab.output.renderOutput(dataTable, element);\n",
              "          const docLink = document.createElement('div');\n",
              "          docLink.innerHTML = docLinkHtml;\n",
              "          element.appendChild(docLink);\n",
              "        }\n",
              "      </script>\n",
              "    </div>\n",
              "  </div>\n",
              "  "
            ]
          },
          "metadata": {},
          "execution_count": 3
        }
      ],
      "source": [
        "titles = pd.read_csv(\"/content/drive/MyDrive/book_title_cleaned_reviews.csv\")\n",
        "titles.head()"
      ]
    },
    {
      "cell_type": "code",
      "source": [
        "titles.dropna(inplace=True)\n",
        "\n",
        "# Creating a binary variable for classification\n",
        "titles[\"rated\"] = 0\n",
        "titles.loc[titles['average_rating'] < 4, 'rated'] = 0 ## Not so good books\n",
        "titles.loc[titles['average_rating']>=4, 'rated'] = 1 ## Good Books\n",
        "# train.loc[(train['average_rating']>=3.5) & (train['average_rating']<4), 'rated'] = 1 \n",
        "# train.loc[(train['average_rating']>=4) & (train['average_rating']<4.5), 'rated'] = 2 \n",
        "titles.head()"
      ],
      "metadata": {
        "colab": {
          "base_uri": "https://localhost:8080/",
          "height": 337
        },
        "id": "-RQqZNCXhss4",
        "outputId": "8ac19536-9547-42f9-aa3e-c357a1ff4414"
      },
      "execution_count": null,
      "outputs": [
        {
          "output_type": "execute_result",
          "data": {
            "text/plain": [
              "   Unnamed: 0  book_id                                              title  \\\n",
              "0           0  1333909                                        Good Harbor   \n",
              "1           1  7327624  The Unschooled Wizard (Sun Wolf and Starhawk, ...   \n",
              "2           2  6066819                               Best Friends Forever   \n",
              "3           3   287140  Runic Astrology: Starcraft and Timekeeping in ...   \n",
              "4           4   287141                      The Aeneid for Boys and Girls   \n",
              "\n",
              "   ratings  average_rating       genre  \\\n",
              "0       10            3.23     fiction   \n",
              "1      140            4.03     fantasy   \n",
              "2    51184            3.49     fiction   \n",
              "3       15            3.40  nonfiction   \n",
              "4       46            4.13     fantasy   \n",
              "\n",
              "                                           mod_title  n_votes  \\\n",
              "0                                        good harbor        0   \n",
              "1     the unschooled wizard sun wolf and starhawk 12        1   \n",
              "2                               best friends forever       13   \n",
              "3  runic astrology starcraft and timekeeping in t...        0   \n",
              "4                      the aeneid for boys and girls        0   \n",
              "\n",
              "                                         review_text  rated  \n",
              "0  reviewers havent say mediocre cliches decent r...      0  \n",
              "1  competent sure read half years funniest twosto...      1  \n",
              "2  okay guy know love jennifer weiner go probably...      0  \n",
              "3  enjoy book rune student half decades enjoy dif...      0  \n",
              "4                      kid love book ancient history      1  "
            ],
            "text/html": [
              "\n",
              "  <div id=\"df-d144dd54-47dd-4ca3-9499-e11808a125ad\">\n",
              "    <div class=\"colab-df-container\">\n",
              "      <div>\n",
              "<style scoped>\n",
              "    .dataframe tbody tr th:only-of-type {\n",
              "        vertical-align: middle;\n",
              "    }\n",
              "\n",
              "    .dataframe tbody tr th {\n",
              "        vertical-align: top;\n",
              "    }\n",
              "\n",
              "    .dataframe thead th {\n",
              "        text-align: right;\n",
              "    }\n",
              "</style>\n",
              "<table border=\"1\" class=\"dataframe\">\n",
              "  <thead>\n",
              "    <tr style=\"text-align: right;\">\n",
              "      <th></th>\n",
              "      <th>Unnamed: 0</th>\n",
              "      <th>book_id</th>\n",
              "      <th>title</th>\n",
              "      <th>ratings</th>\n",
              "      <th>average_rating</th>\n",
              "      <th>genre</th>\n",
              "      <th>mod_title</th>\n",
              "      <th>n_votes</th>\n",
              "      <th>review_text</th>\n",
              "      <th>rated</th>\n",
              "    </tr>\n",
              "  </thead>\n",
              "  <tbody>\n",
              "    <tr>\n",
              "      <th>0</th>\n",
              "      <td>0</td>\n",
              "      <td>1333909</td>\n",
              "      <td>Good Harbor</td>\n",
              "      <td>10</td>\n",
              "      <td>3.23</td>\n",
              "      <td>fiction</td>\n",
              "      <td>good harbor</td>\n",
              "      <td>0</td>\n",
              "      <td>reviewers havent say mediocre cliches decent r...</td>\n",
              "      <td>0</td>\n",
              "    </tr>\n",
              "    <tr>\n",
              "      <th>1</th>\n",
              "      <td>1</td>\n",
              "      <td>7327624</td>\n",
              "      <td>The Unschooled Wizard (Sun Wolf and Starhawk, ...</td>\n",
              "      <td>140</td>\n",
              "      <td>4.03</td>\n",
              "      <td>fantasy</td>\n",
              "      <td>the unschooled wizard sun wolf and starhawk 12</td>\n",
              "      <td>1</td>\n",
              "      <td>competent sure read half years funniest twosto...</td>\n",
              "      <td>1</td>\n",
              "    </tr>\n",
              "    <tr>\n",
              "      <th>2</th>\n",
              "      <td>2</td>\n",
              "      <td>6066819</td>\n",
              "      <td>Best Friends Forever</td>\n",
              "      <td>51184</td>\n",
              "      <td>3.49</td>\n",
              "      <td>fiction</td>\n",
              "      <td>best friends forever</td>\n",
              "      <td>13</td>\n",
              "      <td>okay guy know love jennifer weiner go probably...</td>\n",
              "      <td>0</td>\n",
              "    </tr>\n",
              "    <tr>\n",
              "      <th>3</th>\n",
              "      <td>3</td>\n",
              "      <td>287140</td>\n",
              "      <td>Runic Astrology: Starcraft and Timekeeping in ...</td>\n",
              "      <td>15</td>\n",
              "      <td>3.40</td>\n",
              "      <td>nonfiction</td>\n",
              "      <td>runic astrology starcraft and timekeeping in t...</td>\n",
              "      <td>0</td>\n",
              "      <td>enjoy book rune student half decades enjoy dif...</td>\n",
              "      <td>0</td>\n",
              "    </tr>\n",
              "    <tr>\n",
              "      <th>4</th>\n",
              "      <td>4</td>\n",
              "      <td>287141</td>\n",
              "      <td>The Aeneid for Boys and Girls</td>\n",
              "      <td>46</td>\n",
              "      <td>4.13</td>\n",
              "      <td>fantasy</td>\n",
              "      <td>the aeneid for boys and girls</td>\n",
              "      <td>0</td>\n",
              "      <td>kid love book ancient history</td>\n",
              "      <td>1</td>\n",
              "    </tr>\n",
              "  </tbody>\n",
              "</table>\n",
              "</div>\n",
              "      <button class=\"colab-df-convert\" onclick=\"convertToInteractive('df-d144dd54-47dd-4ca3-9499-e11808a125ad')\"\n",
              "              title=\"Convert this dataframe to an interactive table.\"\n",
              "              style=\"display:none;\">\n",
              "        \n",
              "  <svg xmlns=\"http://www.w3.org/2000/svg\" height=\"24px\"viewBox=\"0 0 24 24\"\n",
              "       width=\"24px\">\n",
              "    <path d=\"M0 0h24v24H0V0z\" fill=\"none\"/>\n",
              "    <path d=\"M18.56 5.44l.94 2.06.94-2.06 2.06-.94-2.06-.94-.94-2.06-.94 2.06-2.06.94zm-11 1L8.5 8.5l.94-2.06 2.06-.94-2.06-.94L8.5 2.5l-.94 2.06-2.06.94zm10 10l.94 2.06.94-2.06 2.06-.94-2.06-.94-.94-2.06-.94 2.06-2.06.94z\"/><path d=\"M17.41 7.96l-1.37-1.37c-.4-.4-.92-.59-1.43-.59-.52 0-1.04.2-1.43.59L10.3 9.45l-7.72 7.72c-.78.78-.78 2.05 0 2.83L4 21.41c.39.39.9.59 1.41.59.51 0 1.02-.2 1.41-.59l7.78-7.78 2.81-2.81c.8-.78.8-2.07 0-2.86zM5.41 20L4 18.59l7.72-7.72 1.47 1.35L5.41 20z\"/>\n",
              "  </svg>\n",
              "      </button>\n",
              "      \n",
              "  <style>\n",
              "    .colab-df-container {\n",
              "      display:flex;\n",
              "      flex-wrap:wrap;\n",
              "      gap: 12px;\n",
              "    }\n",
              "\n",
              "    .colab-df-convert {\n",
              "      background-color: #E8F0FE;\n",
              "      border: none;\n",
              "      border-radius: 50%;\n",
              "      cursor: pointer;\n",
              "      display: none;\n",
              "      fill: #1967D2;\n",
              "      height: 32px;\n",
              "      padding: 0 0 0 0;\n",
              "      width: 32px;\n",
              "    }\n",
              "\n",
              "    .colab-df-convert:hover {\n",
              "      background-color: #E2EBFA;\n",
              "      box-shadow: 0px 1px 2px rgba(60, 64, 67, 0.3), 0px 1px 3px 1px rgba(60, 64, 67, 0.15);\n",
              "      fill: #174EA6;\n",
              "    }\n",
              "\n",
              "    [theme=dark] .colab-df-convert {\n",
              "      background-color: #3B4455;\n",
              "      fill: #D2E3FC;\n",
              "    }\n",
              "\n",
              "    [theme=dark] .colab-df-convert:hover {\n",
              "      background-color: #434B5C;\n",
              "      box-shadow: 0px 1px 3px 1px rgba(0, 0, 0, 0.15);\n",
              "      filter: drop-shadow(0px 1px 2px rgba(0, 0, 0, 0.3));\n",
              "      fill: #FFFFFF;\n",
              "    }\n",
              "  </style>\n",
              "\n",
              "      <script>\n",
              "        const buttonEl =\n",
              "          document.querySelector('#df-d144dd54-47dd-4ca3-9499-e11808a125ad button.colab-df-convert');\n",
              "        buttonEl.style.display =\n",
              "          google.colab.kernel.accessAllowed ? 'block' : 'none';\n",
              "\n",
              "        async function convertToInteractive(key) {\n",
              "          const element = document.querySelector('#df-d144dd54-47dd-4ca3-9499-e11808a125ad');\n",
              "          const dataTable =\n",
              "            await google.colab.kernel.invokeFunction('convertToInteractive',\n",
              "                                                     [key], {});\n",
              "          if (!dataTable) return;\n",
              "\n",
              "          const docLinkHtml = 'Like what you see? Visit the ' +\n",
              "            '<a target=\"_blank\" href=https://colab.research.google.com/notebooks/data_table.ipynb>data table notebook</a>'\n",
              "            + ' to learn more about interactive tables.';\n",
              "          element.innerHTML = '';\n",
              "          dataTable['output_type'] = 'display_data';\n",
              "          await google.colab.output.renderOutput(dataTable, element);\n",
              "          const docLink = document.createElement('div');\n",
              "          docLink.innerHTML = docLinkHtml;\n",
              "          element.appendChild(docLink);\n",
              "        }\n",
              "      </script>\n",
              "    </div>\n",
              "  </div>\n",
              "  "
            ]
          },
          "metadata": {},
          "execution_count": 4
        }
      ]
    },
    {
      "cell_type": "code",
      "source": [
        "# Split the data in training, validation and test\n",
        "from sklearn.model_selection import train_test_split\n",
        "from sklearn.ensemble import RandomForestRegressor, RandomForestClassifier\n",
        "from sklearn.linear_model import LinearRegression, Lasso, Ridge, LogisticRegression\n",
        "from sklearn.metrics import r2_score, explained_variance_score, mean_squared_error, mean_absolute_error, max_error\n",
        "from xgboost import XGBRegressor, XGBClassifier\n",
        "from sklearn.tree import DecisionTreeRegressor, DecisionTreeClassifier\n",
        "import lightgbm as lgb\n",
        "from sklearn.model_selection import RandomizedSearchCV"
      ],
      "metadata": {
        "id": "7MWEdFAJdFNp"
      },
      "execution_count": null,
      "outputs": []
    },
    {
      "cell_type": "code",
      "source": [
        "train, test = train_test_split(titles[['mod_title', 'genre', 'n_votes', 'review_text', 'ratings', 'average_rating', 'rated']], test_size=0.30, random_state=42, stratify=titles['rated'])\n",
        "test, valid = train_test_split(test, test_size=0.33, random_state=42, stratify=test['rated'])\n",
        "print(train.shape)\n",
        "print(test.shape)\n",
        "print(valid.shape)"
      ],
      "metadata": {
        "colab": {
          "base_uri": "https://localhost:8080/"
        },
        "id": "Xw-xW_-seRmC",
        "outputId": "99d42364-cac0-49cd-de81-945de3178f3d"
      },
      "execution_count": null,
      "outputs": [
        {
          "output_type": "stream",
          "name": "stdout",
          "text": [
            "(952718, 7)\n",
            "(273566, 7)\n",
            "(134742, 7)\n"
          ]
        }
      ]
    },
    {
      "cell_type": "code",
      "execution_count": null,
      "metadata": {
        "id": "-4p3O90ciE-b"
      },
      "outputs": [],
      "source": [
        "column_trans = ColumnTransformer(\n",
        "     [('categories', OneHotEncoder(dtype='int'), ['genre']),\n",
        "      ('title_tfidf', TfidfVectorizer(), 'mod_title'),\n",
        "      ('review_text_tfidf', TfidfVectorizer(), 'review_text')],\n",
        "     remainder='passthrough')\n",
        "column_trans.fit(train[['genre', 'mod_title', 'review_text', 'n_votes', 'ratings']])\n",
        "transformed_train = column_trans.transform(train[['genre', 'mod_title', 'review_text', 'n_votes', 'ratings']])\n",
        "transformed_valid = column_trans.transform(valid[['genre', 'mod_title', 'review_text', 'n_votes', 'ratings']])\n",
        "transformed_test = column_trans.transform(test[['genre', 'mod_title', 'review_text', 'n_votes', 'ratings']])"
      ]
    },
    {
      "cell_type": "code",
      "execution_count": null,
      "metadata": {
        "id": "3XpLX76ulk86"
      },
      "outputs": [],
      "source": [
        "# from sklearn.decomposition import TruncatedSVD\n",
        "from scipy.sparse import csr_matrix"
      ]
    },
    {
      "cell_type": "code",
      "execution_count": null,
      "metadata": {
        "id": "ENhgero4lpRf"
      },
      "outputs": [],
      "source": [
        "standardized_train_sparse = csr_matrix(transformed_train)\n",
        "standardized_valid_sparse = csr_matrix(transformed_valid)\n",
        "standardized_test_sparse = csr_matrix(transformed_test)\n",
        "\n",
        "# tsvd = TruncatedSVD(n_components=50)\n",
        "\n",
        "# model_data = tsvd.fit(standardized_train_sparse).transform(standardized_train_sparse)\n",
        "# print(tsvd.explained_variance_ratio_)\n",
        "# valid_data = tsvd.transform(standardized_valid_sparse)\n",
        "# test_data = tsvd.transform(standardized_test_sparse)"
      ]
    },
    {
      "cell_type": "markdown",
      "source": [
        "**Linear Regression**"
      ],
      "metadata": {
        "id": "424PVkDIdnvs"
      }
    },
    {
      "cell_type": "code",
      "source": [
        "lr_model = LinearRegression().fit(standardized_train_sparse, train['average_rating'])"
      ],
      "metadata": {
        "id": "8ACqILSxeID4"
      },
      "execution_count": null,
      "outputs": []
    },
    {
      "cell_type": "code",
      "source": [
        "## Training scores\n",
        "preds = lr_model.predict(standardized_train_sparse)\n",
        "print(r2_score(train['average_rating'], preds))\n",
        "print(explained_variance_score(train['average_rating'], preds))\n",
        "print(mean_absolute_error(train['average_rating'], preds))\n",
        "print(mean_squared_error(train['average_rating'], preds))\n",
        "print(max_error(train['average_rating'], preds))"
      ],
      "metadata": {
        "colab": {
          "base_uri": "https://localhost:8080/"
        },
        "id": "iM7x0maye-Yr",
        "outputId": "d5bb6a05-9463-4fd1-a33c-6c3a410cea4c"
      },
      "execution_count": null,
      "outputs": [
        {
          "output_type": "stream",
          "name": "stdout",
          "text": [
            "0.4919932343005916\n",
            "0.4919932343005915\n",
            "0.19001102720774327\n",
            "0.06404705229900183\n",
            "2.474456610626442\n"
          ]
        }
      ]
    },
    {
      "cell_type": "code",
      "source": [
        "## Validation scores\n",
        "preds = lr_model.predict(standardized_valid_sparse)\n",
        "print(r2_score(valid['average_rating'], preds))\n",
        "print(explained_variance_score(valid['average_rating'], preds))\n",
        "print(mean_absolute_error(valid['average_rating'], preds))\n",
        "print(mean_squared_error(valid['average_rating'], preds))\n",
        "print(max_error(valid['average_rating'], preds))"
      ],
      "metadata": {
        "colab": {
          "base_uri": "https://localhost:8080/"
        },
        "id": "-NaWzfGpe-fD",
        "outputId": "f70bf248-412b-48f7-98d3-7a173f33cf74"
      },
      "execution_count": null,
      "outputs": [
        {
          "output_type": "stream",
          "name": "stdout",
          "text": [
            "0.19748325020031576\n",
            "0.19749510734105358\n",
            "0.24132474649745222\n",
            "0.10184193335473701\n",
            "2.513208404035402\n"
          ]
        }
      ]
    },
    {
      "cell_type": "code",
      "source": [
        "preds = lr_model.predict(standardized_test_sparse)\n",
        "print(r2_score(test['average_rating'], preds))\n",
        "print(explained_variance_score(test['average_rating'], preds))\n",
        "print(mean_absolute_error(test['average_rating'], preds))\n",
        "print(mean_squared_error(test['average_rating'], preds))\n",
        "print(max_error(test['average_rating'], preds))"
      ],
      "metadata": {
        "colab": {
          "base_uri": "https://localhost:8080/"
        },
        "id": "1s6tjMh6e-mG",
        "outputId": "25ed9e85-276d-4c56-ff64-e3a1c0f3bec9"
      },
      "execution_count": null,
      "outputs": [
        {
          "output_type": "stream",
          "name": "stdout",
          "text": [
            "0.1954008510841061\n",
            "0.19542451821292173\n",
            "0.24110885243355068\n",
            "0.10143105824795338\n",
            "2.814875844938451\n"
          ]
        }
      ]
    },
    {
      "cell_type": "markdown",
      "source": [
        "**Lasso Regression**"
      ],
      "metadata": {
        "id": "ZKA_zXj8fKwN"
      }
    },
    {
      "cell_type": "code",
      "source": [
        "lasso_model = Lasso(alpha=0.1, selection='random', normalize=True)\n",
        "lasso_model.fit(standardized_train_sparse, train['average_rating'])"
      ],
      "metadata": {
        "colab": {
          "base_uri": "https://localhost:8080/"
        },
        "id": "PJylllhPfTy-",
        "outputId": "ed9ac0da-5ae2-4715-dae5-ddaaf0136433"
      },
      "execution_count": null,
      "outputs": [
        {
          "output_type": "stream",
          "name": "stderr",
          "text": [
            "/usr/local/lib/python3.8/dist-packages/sklearn/linear_model/_base.py:141: FutureWarning: 'normalize' was deprecated in version 1.0 and will be removed in 1.2.\n",
            "If you wish to scale the data, use Pipeline with a StandardScaler in a preprocessing stage. To reproduce the previous behavior:\n",
            "\n",
            "from sklearn.pipeline import make_pipeline\n",
            "\n",
            "model = make_pipeline(StandardScaler(with_mean=False), Lasso())\n",
            "\n",
            "If you wish to pass a sample_weight parameter, you need to pass it as a fit parameter to each step of the pipeline as follows:\n",
            "\n",
            "kwargs = {s[0] + '__sample_weight': sample_weight for s in model.steps}\n",
            "model.fit(X, y, **kwargs)\n",
            "\n",
            "Set parameter alpha to: original_alpha * np.sqrt(n_samples). \n",
            "  warnings.warn(\n"
          ]
        },
        {
          "output_type": "execute_result",
          "data": {
            "text/plain": [
              "Lasso(alpha=0.1, normalize=True, selection='random')"
            ]
          },
          "metadata": {},
          "execution_count": 14
        }
      ]
    },
    {
      "cell_type": "code",
      "source": [
        "preds = lasso_model.predict(standardized_train_sparse)\n",
        "print(r2_score(train['average_rating'], preds))\n",
        "print(explained_variance_score(train['average_rating'], preds))\n",
        "print(mean_absolute_error(train['average_rating'], preds))\n",
        "print(mean_squared_error(train['average_rating'], preds))\n",
        "print(max_error(train['average_rating'], preds))"
      ],
      "metadata": {
        "colab": {
          "base_uri": "https://localhost:8080/"
        },
        "id": "6v9ia5c3fT57",
        "outputId": "9b976d14-d1df-4792-f2e1-76340d86f3c3"
      },
      "execution_count": null,
      "outputs": [
        {
          "output_type": "stream",
          "name": "stdout",
          "text": [
            "0.0\n",
            "0.0\n",
            "0.27508092459212075\n",
            "0.1260751954963115\n",
            "2.880527994642696\n"
          ]
        }
      ]
    },
    {
      "cell_type": "code",
      "source": [
        "preds = lasso_model.predict(standardized_valid_sparse)\n",
        "print(r2_score(valid['average_rating'], preds))\n",
        "print(explained_variance_score(valid['average_rating'], preds))\n",
        "print(mean_absolute_error(valid['average_rating'], preds))\n",
        "print(mean_squared_error(valid['average_rating'], preds))\n",
        "print(max_error(valid['average_rating'], preds))"
      ],
      "metadata": {
        "colab": {
          "base_uri": "https://localhost:8080/"
        },
        "id": "0pPXCynJfUHR",
        "outputId": "30c82163-4e69-4890-86a7-3a2658da4f4b"
      },
      "execution_count": null,
      "outputs": [
        {
          "output_type": "stream",
          "name": "stdout",
          "text": [
            "-5.868079355764166e-09\n",
            "-2.220446049250313e-16\n",
            "0.27572364628433366\n",
            "0.12690318797429995\n",
            "2.590527994642696\n"
          ]
        }
      ]
    },
    {
      "cell_type": "code",
      "source": [
        "preds = lasso_model.predict(standardized_test_sparse)\n",
        "print(r2_score(test['average_rating'], preds))\n",
        "print(explained_variance_score(test['average_rating'], preds))\n",
        "print(mean_absolute_error(test['average_rating'], preds))\n",
        "print(mean_squared_error(test['average_rating'], preds))\n",
        "print(max_error(test['average_rating'], preds))"
      ],
      "metadata": {
        "colab": {
          "base_uri": "https://localhost:8080/"
        },
        "id": "zLxqHecVfXZ9",
        "outputId": "933b2f37-20ca-4e7a-ebd2-19b5e6b7a18f"
      },
      "execution_count": null,
      "outputs": [
        {
          "output_type": "stream",
          "name": "stdout",
          "text": [
            "-1.0562879151354565e-05\n",
            "2.220446049250313e-16\n",
            "0.27506295884230936\n",
            "0.12606542001521148\n",
            "2.880527994642696\n"
          ]
        }
      ]
    },
    {
      "cell_type": "markdown",
      "source": [
        "**Ridge Regression**"
      ],
      "metadata": {
        "id": "HNWISVNagoJG"
      }
    },
    {
      "cell_type": "code",
      "source": [
        "ridge_model = Ridge(alpha=1, solver=\"sparse_cg\", normalize=True)\n",
        "ridge_model.fit(standardized_train_sparse, train['average_rating'])"
      ],
      "metadata": {
        "colab": {
          "base_uri": "https://localhost:8080/"
        },
        "id": "N_1H9axdgzjn",
        "outputId": "738d3f62-6716-42e3-81e1-6120d33e5eac"
      },
      "execution_count": null,
      "outputs": [
        {
          "output_type": "stream",
          "name": "stderr",
          "text": [
            "/usr/local/lib/python3.8/dist-packages/sklearn/linear_model/_base.py:141: FutureWarning: 'normalize' was deprecated in version 1.0 and will be removed in 1.2.\n",
            "If you wish to scale the data, use Pipeline with a StandardScaler in a preprocessing stage. To reproduce the previous behavior:\n",
            "\n",
            "from sklearn.pipeline import make_pipeline\n",
            "\n",
            "model = make_pipeline(StandardScaler(with_mean=False), Ridge())\n",
            "\n",
            "If you wish to pass a sample_weight parameter, you need to pass it as a fit parameter to each step of the pipeline as follows:\n",
            "\n",
            "kwargs = {s[0] + '__sample_weight': sample_weight for s in model.steps}\n",
            "model.fit(X, y, **kwargs)\n",
            "\n",
            "Set parameter alpha to: original_alpha * n_samples. \n",
            "  warnings.warn(\n"
          ]
        },
        {
          "output_type": "execute_result",
          "data": {
            "text/plain": [
              "Ridge(alpha=1, normalize=True, solver='sparse_cg')"
            ]
          },
          "metadata": {},
          "execution_count": 14
        }
      ]
    },
    {
      "cell_type": "code",
      "source": [
        "preds = ridge_model.predict(standardized_train_sparse)\n",
        "print(r2_score(train['average_rating'], preds))\n",
        "print(explained_variance_score(train['average_rating'], preds))\n",
        "print(mean_absolute_error(train['average_rating'], preds))\n",
        "print(mean_squared_error(train['average_rating'], preds))\n",
        "print(max_error(train['average_rating'], preds))"
      ],
      "metadata": {
        "colab": {
          "base_uri": "https://localhost:8080/"
        },
        "id": "XFhlCkXzgznc",
        "outputId": "afa5758c-15c5-49b7-e4bf-5b429170406c"
      },
      "execution_count": null,
      "outputs": [
        {
          "output_type": "stream",
          "name": "stdout",
          "text": [
            "0.6150309321103049\n",
            "0.615030932110305\n",
            "0.15105983817978952\n",
            "0.04853505049422611\n",
            "2.2991342018324983\n"
          ]
        }
      ]
    },
    {
      "cell_type": "code",
      "source": [
        "preds = ridge_model.predict(standardized_valid_sparse)\n",
        "print(r2_score(valid['average_rating'], preds))\n",
        "print(explained_variance_score(valid['average_rating'], preds))\n",
        "print(mean_absolute_error(valid['average_rating'], preds))\n",
        "print(mean_squared_error(valid['average_rating'], preds))\n",
        "print(max_error(valid['average_rating'], preds))"
      ],
      "metadata": {
        "colab": {
          "base_uri": "https://localhost:8080/"
        },
        "id": "7jdknTgLgzql",
        "outputId": "73f7394f-0c7b-4a87-b5f8-dbcf4970872e"
      },
      "execution_count": null,
      "outputs": [
        {
          "output_type": "stream",
          "name": "stdout",
          "text": [
            "0.20592574271685027\n",
            "0.20595189971511896\n",
            "0.2391785003120273\n",
            "0.10077055414622656\n",
            "2.4823836615174457\n"
          ]
        }
      ]
    },
    {
      "cell_type": "code",
      "source": [
        "preds = ridge_model.predict(standardized_test_sparse)\n",
        "print(r2_score(test['average_rating'], preds))\n",
        "print(explained_variance_score(test['average_rating'], preds))\n",
        "print(mean_absolute_error(test['average_rating'], preds))\n",
        "print(mean_squared_error(test['average_rating'], preds))\n",
        "print(max_error(test['average_rating'], preds))"
      ],
      "metadata": {
        "colab": {
          "base_uri": "https://localhost:8080/"
        },
        "id": "qMGj1E1Jgz05",
        "outputId": "9ddb6fb9-9769-4681-a1de-8bcbb61ab407"
      },
      "execution_count": null,
      "outputs": [
        {
          "output_type": "stream",
          "name": "stdout",
          "text": [
            "0.2014083036269977\n",
            "0.2014482177375142\n",
            "0.23930273558262255\n",
            "0.1006737342194345\n",
            "4.878566272113606\n"
          ]
        }
      ]
    },
    {
      "cell_type": "markdown",
      "source": [
        "**Decision Tree**"
      ],
      "metadata": {
        "id": "_Vmi_ESshMYR"
      }
    },
    {
      "cell_type": "code",
      "source": [
        "dt_model = DecisionTreeRegressor(max_depth=50, max_features=500, random_state=0)\n",
        "dt_model.fit(standardized_train_sparse, train['average_rating'])"
      ],
      "metadata": {
        "id": "oQf_vt_shVRR"
      },
      "execution_count": null,
      "outputs": []
    },
    {
      "cell_type": "code",
      "source": [
        "preds = dt_model.predict(standardized_train_sparse)\n",
        "print(r2_score(train['average_rating'], preds))\n",
        "print(explained_variance_score(train['average_rating'], preds))\n",
        "print(mean_absolute_error(train['average_rating'], preds))\n",
        "print(mean_squared_error(train['average_rating'], preds))\n",
        "print(max_error(train['average_rating'], preds))"
      ],
      "metadata": {
        "id": "D1xmlVtGhVX6"
      },
      "execution_count": null,
      "outputs": []
    },
    {
      "cell_type": "code",
      "source": [
        "preds = dt_model.predict(standardized_valid_sparse)\n",
        "print(r2_score(valid['average_rating'], preds))\n",
        "print(explained_variance_score(valid['average_rating'], preds))\n",
        "print(mean_absolute_error(valid['average_rating'], preds))\n",
        "print(mean_squared_error(valid['average_rating'], preds))\n",
        "print(max_error(valid['average_rating'], preds))"
      ],
      "metadata": {
        "id": "XsAyS87ThVbR"
      },
      "execution_count": null,
      "outputs": []
    },
    {
      "cell_type": "code",
      "source": [
        "preds = dt_model.predict(standardized_test_sparse)\n",
        "print(r2_score(test['average_rating'], preds))\n",
        "print(explained_variance_score(test['average_rating'], preds))\n",
        "print(mean_absolute_error(test['average_rating'], preds))\n",
        "print(mean_squared_error(test['average_rating'], preds))\n",
        "print(max_error(test['average_rating'], preds))"
      ],
      "metadata": {
        "id": "-ndb1Bf0hVen"
      },
      "execution_count": null,
      "outputs": []
    },
    {
      "cell_type": "markdown",
      "source": [
        "**LightGBM Regressor**"
      ],
      "metadata": {
        "id": "cXLa_UDugtox"
      }
    },
    {
      "cell_type": "code",
      "source": [
        "## Train the model\n",
        "lgb_model = lgb.LGBMRegressor(n_estimators=500, n_jobs=-1, random_state=2)\n",
        "lgb_model.fit(standardized_train_sparse, train['average_rating'])"
      ],
      "metadata": {
        "id": "Kw3tkaR7HTP-",
        "colab": {
          "base_uri": "https://localhost:8080/"
        },
        "outputId": "5e0f941e-b680-450b-e22a-c8ef4b3f70af"
      },
      "execution_count": null,
      "outputs": [
        {
          "output_type": "execute_result",
          "data": {
            "text/plain": [
              "LGBMRegressor(n_estimators=500, random_state=2)"
            ]
          },
          "metadata": {},
          "execution_count": 10
        }
      ]
    },
    {
      "cell_type": "code",
      "source": [
        "## Training scores\n",
        "preds = lgb_model.predict(standardized_train_sparse)\n",
        "print(r2_score(train['average_rating'], preds))\n",
        "print(explained_variance_score(train['average_rating'], preds))\n",
        "print(mean_absolute_error(train['average_rating'], preds))\n",
        "print(mean_squared_error(train['average_rating'], preds))\n",
        "print(max_error(train['average_rating'], preds))"
      ],
      "metadata": {
        "colab": {
          "base_uri": "https://localhost:8080/"
        },
        "id": "B-IlM12okexx",
        "outputId": "b29ab9dd-46ed-4bb1-bdf9-189561b3e3db"
      },
      "execution_count": null,
      "outputs": [
        {
          "output_type": "stream",
          "name": "stdout",
          "text": [
            "0.236986627269277\n",
            "0.2369866814725372\n",
            "0.2380000259618433\n",
            "0.09619706013332589\n",
            "2.7582340217524846\n"
          ]
        }
      ]
    },
    {
      "cell_type": "code",
      "source": [
        "## Validation scores\n",
        "preds = lgb_model.predict(standardized_valid_sparse)\n",
        "print(r2_score(valid['average_rating'], preds))\n",
        "print(explained_variance_score(valid['average_rating'], preds))\n",
        "print(mean_absolute_error(valid['average_rating'], preds))\n",
        "print(mean_squared_error(valid['average_rating'], preds))\n",
        "print(max_error(valid['average_rating'], preds))"
      ],
      "metadata": {
        "colab": {
          "base_uri": "https://localhost:8080/"
        },
        "id": "Feg658pimkap",
        "outputId": "880baf90-2099-4c82-9a68-c49d2b71d7ea"
      },
      "execution_count": null,
      "outputs": [
        {
          "output_type": "stream",
          "name": "stdout",
          "text": [
            "0.2135232421711336\n",
            "0.2135242892059246\n",
            "0.24188741339739486\n",
            "0.09980640725050269\n",
            "2.611744952236208\n"
          ]
        }
      ]
    },
    {
      "cell_type": "code",
      "source": [
        "preds = lgb_model.predict(standardized_test_sparse)\n",
        "print(r2_score(test['average_rating'], preds))\n",
        "print(explained_variance_score(test['average_rating'], preds))\n",
        "print(mean_absolute_error(test['average_rating'], preds))\n",
        "print(mean_squared_error(test['average_rating'], preds))\n",
        "print(max_error(test['average_rating'], preds))"
      ],
      "metadata": {
        "colab": {
          "base_uri": "https://localhost:8080/"
        },
        "id": "vW1kFwqWLp9W",
        "outputId": "1efb7a2b-83ab-4682-deac-d380792c5d5d"
      },
      "execution_count": null,
      "outputs": [
        {
          "output_type": "stream",
          "name": "stdout",
          "text": [
            "0.21149637006485367\n",
            "0.21150654041747785\n",
            "0.24164100418432644\n",
            "0.09940199132007138\n",
            "3.201227168609236\n"
          ]
        }
      ]
    },
    {
      "cell_type": "code",
      "source": [
        "import pickle\n",
        "pickle.dump(lgb_model, open(\"lgb_rating_regressor.pkl\", 'wb'))"
      ],
      "metadata": {
        "id": "G8k5K3YWZKFE"
      },
      "execution_count": null,
      "outputs": []
    },
    {
      "cell_type": "code",
      "source": [
        "from matplotlib import pyplot as plt\n",
        "fig, ax = plt.subplots(figsize =(10, 7))\n",
        "ax.hist(train['average_rating'], bins = [1, 2, 3, 4, 5])"
      ],
      "metadata": {
        "colab": {
          "base_uri": "https://localhost:8080/",
          "height": 482
        },
        "id": "X0O_gc7W4ziV",
        "outputId": "58e6e18a-b006-4bff-b914-9006abb4a29e"
      },
      "execution_count": null,
      "outputs": [
        {
          "output_type": "execute_result",
          "data": {
            "text/plain": [
              "(array([1.61000e+02, 1.39410e+04, 5.67034e+05, 3.71582e+05]),\n",
              " array([1, 2, 3, 4, 5]),\n",
              " <a list of 4 Patch objects>)"
            ]
          },
          "metadata": {},
          "execution_count": 42
        },
        {
          "output_type": "display_data",
          "data": {
            "text/plain": [
              "<Figure size 720x504 with 1 Axes>"
            ],
            "image/png": "[encoded data removed]"
          },
          "metadata": {
            "needs_background": "light"
          }
        }
      ]
    },
    {
      "cell_type": "code",
      "source": [
        "from sklearn.metrics import confusion_matrix, plot_confusion_matrix, roc_auc_score, brier_score_loss\n",
        "from sklearn.metrics import balanced_accuracy_score, f1_score, precision_score, recall_score, roc_curve\n",
        "import seaborn as sns\n",
        "import matplotlib.pyplot as plt\n",
        "%matplotlib inline"
      ],
      "metadata": {
        "id": "kOO8FYnlCT5y"
      },
      "execution_count": null,
      "outputs": []
    },
    {
      "cell_type": "code",
      "source": [
        "def get_roc_curve(Yactual, Yprob, ModelName):\n",
        "    '''Function to plot roc curve and find optimal threshold\n",
        "    '''\n",
        "    # calculate roc curves\n",
        "    fpr, tpr, ths = roc_curve(Yactual, Yprob)\n",
        "    \n",
        "    # Finding the best threshold value\n",
        "    gmeans = np.sqrt(tpr * (1-fpr))\n",
        "    th_idx = np.argmax(gmeans)\n",
        "    best_th = ths[th_idx]\n",
        "    print(f'Best Threshold={best_th}, G-Mean={gmeans[th_idx]}')\n",
        "\n",
        "    # plot the roc curve for the model\n",
        "    plt.plot([0,1], [0,1], linestyle='--', label='Random')\n",
        "    plt.plot(fpr, tpr, marker='.', label=ModelName)\n",
        "    # axis labels\n",
        "    plt.xlabel('False Positive Rate')\n",
        "    plt.ylabel('True Positive Rate')\n",
        "    plt.legend()\n",
        "    # show the plot\n",
        "    plt.show()\n",
        "    return fpr, tpr, ths, best_th\n",
        "\n",
        "def evaluate(Yactual, Ypred, Yprob=None):\n",
        "    '''Function to calculate evaluation metrics\n",
        "    '''\n",
        "    if Yprob:\n",
        "        print(f\"Brier Score: {brier_score_loss(Yactual, Yprob)}\")\n",
        "        print(f\"ROC AUC Score: {roc_auc_score(Yactual, Yprob)}\")\n",
        "    print(f\"Balanced Accuracy Score: {balanced_accuracy_score(Yactual, Ypred)}\")\n",
        "    print(f\"F1 Score: {f1_score(Yactual, Ypred)}\")\n",
        "    print(f\"Precision Score: {precision_score(Yactual, Ypred)}\")\n",
        "    print(f\"Recall Score: {recall_score(Yactual, Ypred)}\")\n",
        "\n",
        "def plot_confusion_mat(Cmat):\n",
        "    '''Function to plot confusion matrix\n",
        "    '''\n",
        "    ax = sns.heatmap(Cmat, xticklabels='01', yticklabels='01', annot=True, square=True, cmap='Blues', fmt='g')\n",
        "    ax.set_xlabel('Predicted')\n",
        "    ax.set_ylabel('Actual')\n",
        "    plt.show()"
      ],
      "metadata": {
        "id": "js_MbcNnCaQn"
      },
      "execution_count": null,
      "outputs": []
    },
    {
      "cell_type": "markdown",
      "source": [
        "**Logistic Regression**"
      ],
      "metadata": {
        "id": "Bzk-JG3pibOo"
      }
    },
    {
      "cell_type": "code",
      "source": [
        "logit_model = LogisticRegression(class_weight=\"balanced\", random_state=2, n_jobs=-1)\n",
        "logit_model.fit(standardized_train_sparse, train[\"rated\"])\n",
        "logit_prob = logit_model.predict_proba(standardized_valid_sparse)\n",
        "cls_logit_prob = [i[1] for i in logit_prob]\n",
        "fpr, tpr, ths, best_th = get_roc_curve(valid['rated'], cls_logit_prob, \"Logistic Regression\")"
      ],
      "metadata": {
        "colab": {
          "base_uri": "https://localhost:8080/",
          "height": 297
        },
        "id": "I_kTtEJhisi9",
        "outputId": "f7c43319-b453-4d57-81b0-173f6f26aec0"
      },
      "execution_count": null,
      "outputs": [
        {
          "output_type": "stream",
          "name": "stdout",
          "text": [
            "Best Threshold=0.5008958641764232, G-Mean=0.5369647785950407\n"
          ]
        },
        {
          "output_type": "display_data",
          "data": {
            "text/plain": [
              "<Figure size 432x288 with 1 Axes>"
            ],
            "image/png": "[encoded data removed]"
          },
          "metadata": {
            "needs_background": "light"
          }
        }
      ]
    },
    {
      "cell_type": "code",
      "source": [
        "logit_pred = (logit_prob >= best_th).astype(int)\n",
        "logit_pred = [i[1] for i in logit_pred]\n",
        "cmat = confusion_matrix(valid['rated'], logit_pred)\n",
        "evaluate(valid['rated'], logit_pred, cls_logit_prob)\n",
        "plot_confusion_mat(cmat)"
      ],
      "metadata": {
        "colab": {
          "base_uri": "https://localhost:8080/",
          "height": 386
        },
        "id": "AFCHywfxisp5",
        "outputId": "1b77fbe0-d3f1-4f25-db0c-907c7e98393f"
      },
      "execution_count": null,
      "outputs": [
        {
          "output_type": "stream",
          "name": "stdout",
          "text": [
            "Brier Score: 0.25055880526576824\n",
            "ROC AUC Score: 0.5524144031264991\n",
            "Balanced Accuracy Score: 0.536969023419646\n",
            "F1 Score: 0.47569155857784495\n",
            "Precision Score: 0.4256268497513634\n",
            "Recall Score: 0.5391041254376617\n"
          ]
        },
        {
          "output_type": "display_data",
          "data": {
            "text/plain": [
              "<Figure size 432x288 with 2 Axes>"
            ],
            "image/png": "[encoded data removed]"
          },
          "metadata": {
            "needs_background": "light"
          }
        }
      ]
    },
    {
      "cell_type": "code",
      "source": [
        "logit_prob = logit_model.predict_proba(standardized_train_sparse)\n",
        "cls_logit_prob = [i[1] for i in logit_prob]\n",
        "logit_pred = (logit_prob >= best_th).astype(int)\n",
        "logit_pred = [i[1] for i in logit_pred]\n",
        "cmat = confusion_matrix(train['rated'], logit_pred)\n",
        "evaluate(train['rated'], logit_pred, cls_logit_prob)\n",
        "plot_confusion_mat(cmat)"
      ],
      "metadata": {
        "colab": {
          "base_uri": "https://localhost:8080/",
          "height": 386
        },
        "id": "CJ8h4pk0isx6",
        "outputId": "26d88faf-0cfc-4106-a8bf-8b85dbdc4b26"
      },
      "execution_count": null,
      "outputs": [
        {
          "output_type": "stream",
          "name": "stdout",
          "text": [
            "Brier Score: 0.2506046173132568\n",
            "ROC AUC Score: 0.5508670665917881\n",
            "Balanced Accuracy Score: 0.5354836825731034\n",
            "F1 Score: 0.4741098152727929\n",
            "Precision Score: 0.42419697166057274\n",
            "Recall Score: 0.5373349624039916\n"
          ]
        },
        {
          "output_type": "display_data",
          "data": {
            "text/plain": [
              "<Figure size 432x288 with 2 Axes>"
            ],
            "image/png": "[encoded data removed]"
          },
          "metadata": {
            "needs_background": "light"
          }
        }
      ]
    },
    {
      "cell_type": "code",
      "source": [
        "logit_prob = logit_model.predict_proba(standardized_test_sparse)\n",
        "cls_logit_prob = [i[1] for i in logit_prob]\n",
        "logit_pred = (logit_prob >= best_th).astype(int)\n",
        "logit_pred = [i[1] for i in logit_pred]\n",
        "cmat = confusion_matrix(test['rated'], logit_pred)\n",
        "evaluate(test['rated'], logit_pred, cls_logit_prob)\n",
        "plot_confusion_mat(cmat)"
      ],
      "metadata": {
        "colab": {
          "base_uri": "https://localhost:8080/",
          "height": 386
        },
        "id": "2XTa1SA3isuQ",
        "outputId": "3e42fb89-0341-4208-cc10-bcfe3e0a2afa"
      },
      "execution_count": null,
      "outputs": [
        {
          "output_type": "stream",
          "name": "stdout",
          "text": [
            "Brier Score: 0.2506162086956343\n",
            "ROC AUC Score: 0.5504140763444678\n",
            "Balanced Accuracy Score: 0.5351193811729271\n",
            "F1 Score: 0.4735498657532093\n",
            "Precision Score: 0.42387907155870896\n",
            "Recall Score: 0.536406834306494\n"
          ]
        },
        {
          "output_type": "display_data",
          "data": {
            "text/plain": [
              "<Figure size 432x288 with 2 Axes>"
            ],
            "image/png": "[encoded data removed]"
          },
          "metadata": {
            "needs_background": "light"
          }
        }
      ]
    },
    {
      "cell_type": "markdown",
      "source": [
        "**Decision Tree Classifier**"
      ],
      "metadata": {
        "id": "o7kL3mVwlFUA"
      }
    },
    {
      "cell_type": "code",
      "source": [
        "dt_model = DecisionTreeClassifier(min_samples_split=20, max_features=\"auto\", random_state=0)\n",
        "dt_model.fit(standardized_train_sparse, train[\"rated\"])\n",
        "dt_prob = dt_model.predict_proba(standardized_valid_sparse)\n",
        "cls_dt_prob = [i[1] for i in dt_prob]\n",
        "fpr, tpr, ths, best_th = get_roc_curve(valid['rated'], cls_dt_prob, \"Decision Tree\")"
      ],
      "metadata": {
        "colab": {
          "base_uri": "https://localhost:8080/",
          "height": 297
        },
        "id": "JOX0dJN1lOdY",
        "outputId": "bc17eeb8-8014-46e8-d7ba-dc12947967e2"
      },
      "execution_count": null,
      "outputs": [
        {
          "output_type": "stream",
          "name": "stdout",
          "text": [
            "Best Threshold=0.4281237652765099, G-Mean=0.46377596463396503\n"
          ]
        },
        {
          "output_type": "display_data",
          "data": {
            "text/plain": [
              "<Figure size 432x288 with 1 Axes>"
            ],
            "image/png": "[encoded data removed]"
          },
          "metadata": {
            "needs_background": "light"
          }
        }
      ]
    },
    {
      "cell_type": "code",
      "source": [
        "dt_pred = (dt_prob >= best_th).astype(int)\n",
        "dt_pred = [i[1] for i in dt_pred]\n",
        "cmat = confusion_matrix(valid['rated'], dt_pred)\n",
        "evaluate(valid['rated'], dt_pred, cls_dt_prob)\n",
        "plot_confusion_mat(cmat)"
      ],
      "metadata": {
        "colab": {
          "base_uri": "https://localhost:8080/",
          "height": 386
        },
        "id": "c9Kk2wOAlOk6",
        "outputId": "71ae9fa4-a0c2-44e8-9594-873e1477f0c9"
      },
      "execution_count": null,
      "outputs": [
        {
          "output_type": "stream",
          "name": "stdout",
          "text": [
            "Brier Score: 0.236783363827756\n",
            "ROC AUC Score: 0.5300926257345003\n",
            "Balanced Accuracy Score: 0.524678093798568\n",
            "F1 Score: 0.340848929549993\n",
            "Precision Score: 0.4371351995235259\n",
            "Recall Score: 0.2793233368853707\n"
          ]
        },
        {
          "output_type": "display_data",
          "data": {
            "text/plain": [
              "<Figure size 432x288 with 2 Axes>"
            ],
            "image/png": "[encoded data removed]"
          },
          "metadata": {
            "needs_background": "light"
          }
        }
      ]
    },
    {
      "cell_type": "code",
      "source": [
        "dt_prob = dt_model.predict_proba(standardized_train_sparse)\n",
        "cls_dt_prob = [i[1] for i in dt_prob]\n",
        "dt_pred = (dt_prob >= best_th).astype(int)\n",
        "dt_pred = [i[1] for i in dt_pred]\n",
        "cmat = confusion_matrix(train['rated'], dt_pred)\n",
        "evaluate(train['rated'], dt_pred, cls_dt_prob)\n",
        "plot_confusion_mat(cmat)"
      ],
      "metadata": {
        "colab": {
          "base_uri": "https://localhost:8080/",
          "height": 386
        },
        "id": "5LNXm-O_lOpS",
        "outputId": "f3ef13cb-d95f-4161-88bf-ced5d41fa8f2"
      },
      "execution_count": null,
      "outputs": [
        {
          "output_type": "stream",
          "name": "stdout",
          "text": [
            "Brier Score: 0.23667262751376772\n",
            "ROC AUC Score: 0.5309456139262274\n",
            "Balanced Accuracy Score: 0.5255571674867112\n",
            "F1 Score: 0.3424276735752146\n",
            "Precision Score: 0.43874049653501984\n",
            "Recall Score: 0.28078862808209226\n"
          ]
        },
        {
          "output_type": "display_data",
          "data": {
            "text/plain": [
              "<Figure size 432x288 with 2 Axes>"
            ],
            "image/png": "[encoded data removed]"
          },
          "metadata": {
            "needs_background": "light"
          }
        }
      ]
    },
    {
      "cell_type": "code",
      "source": [
        "dt_prob = dt_model.predict_proba(standardized_test_sparse)\n",
        "cls_dt_prob = [i[1] for i in logit_prob]\n",
        "dt_pred = (logit_prob >= best_th).astype(int)\n",
        "dt_pred = [i[1] for i in dt_pred]\n",
        "cmat = confusion_matrix(test['rated'], dt_pred)\n",
        "evaluate(test['rated'], dt_pred, cls_dt_prob)\n",
        "plot_confusion_mat(cmat)"
      ],
      "metadata": {
        "colab": {
          "base_uri": "https://localhost:8080/",
          "height": 386
        },
        "id": "IxHBuWlSlOx-",
        "outputId": "10dd26ed-d8c5-4c93-b6a3-749b31189f41"
      },
      "execution_count": null,
      "outputs": [
        {
          "output_type": "stream",
          "name": "stdout",
          "text": [
            "Brier Score: 0.2506162086956343\n",
            "ROC AUC Score: 0.5504140763444678\n",
            "Balanced Accuracy Score: 0.5\n",
            "F1 Score: 0.5611747658857159\n",
            "Precision Score: 0.39002288296060184\n",
            "Recall Score: 1.0\n"
          ]
        },
        {
          "output_type": "display_data",
          "data": {
            "text/plain": [
              "<Figure size 432x288 with 2 Axes>"
            ],
            "image/png": "[encoded data removed]"
          },
          "metadata": {
            "needs_background": "light"
          }
        }
      ]
    },
    {
      "cell_type": "markdown",
      "source": [
        "**Random Forest Classifier**"
      ],
      "metadata": {
        "id": "Dw3gK1JHlPLJ"
      }
    },
    {
      "cell_type": "code",
      "source": [
        "rf_model = RandomForestClassifier(class_weight=\"balanced\", n_estimators=500, max_leaf_nodes=31, n_jobs=-1, random_state=2)\n",
        "rf_model.fit(standardized_train_sparse, train[\"rated\"])\n",
        "rf_prob = rf_model.predict_proba(standardized_valid_sparse)\n",
        "cls_rf_prob = [i[1] for i in rf_prob]\n",
        "fpr, tpr, ths, best_th = get_roc_curve(valid['rated'], cls_rf_prob, \"Random Forest\")"
      ],
      "metadata": {
        "colab": {
          "base_uri": "https://localhost:8080/",
          "height": 297
        },
        "id": "H3fHDjF_lVAZ",
        "outputId": "0c484a25-e181-4626-b968-65fe52614312"
      },
      "execution_count": null,
      "outputs": [
        {
          "output_type": "stream",
          "name": "stdout",
          "text": [
            "Best Threshold=0.4990601124486249, G-Mean=0.6434028616492891\n"
          ]
        },
        {
          "output_type": "display_data",
          "data": {
            "text/plain": [
              "<Figure size 432x288 with 1 Axes>"
            ],
            "image/png": "[encoded data removed]"
          },
          "metadata": {
            "needs_background": "light"
          }
        }
      ]
    },
    {
      "cell_type": "code",
      "source": [
        "rf_pred = (rf_prob >= best_th).astype(int)\n",
        "rf_pred = [i[1] for i in rf_pred]\n",
        "cmat = confusion_matrix(valid['rated'], rf_pred)\n",
        "evaluate(valid['rated'], rf_pred, cls_rf_prob)\n",
        "plot_confusion_mat(cmat)"
      ],
      "metadata": {
        "colab": {
          "base_uri": "https://localhost:8080/",
          "height": 386
        },
        "id": "abUjGs9JlVDu",
        "outputId": "131534b5-2bce-462d-a652-f40c57eebdd5"
      },
      "execution_count": null,
      "outputs": [
        {
          "output_type": "stream",
          "name": "stdout",
          "text": [
            "Brier Score: 0.2472929470278975\n",
            "ROC AUC Score: 0.6967419334030134\n",
            "Balanced Accuracy Score: 0.6437522646298631\n",
            "F1 Score: 0.5800452107619343\n",
            "Precision Score: 0.5429771131727881\n",
            "Recall Score: 0.622545288476176\n"
          ]
        },
        {
          "output_type": "display_data",
          "data": {
            "text/plain": [
              "<Figure size 432x288 with 2 Axes>"
            ],
            "image/png": "[encoded data removed]"
          },
          "metadata": {
            "needs_background": "light"
          }
        }
      ]
    },
    {
      "cell_type": "code",
      "source": [
        "rf_prob = rf_model.predict_proba(standardized_train_sparse)\n",
        "cls_rf_prob = [i[1] for i in rf_prob]\n",
        "rf_pred = (rf_prob >= best_th).astype(int)\n",
        "rf_pred = [i[1] for i in rf_pred]\n",
        "cmat = confusion_matrix(train['rated'], rf_pred)\n",
        "evaluate(train['rated'], rf_pred, cls_rf_prob)\n",
        "plot_confusion_mat(cmat)"
      ],
      "metadata": {
        "colab": {
          "base_uri": "https://localhost:8080/",
          "height": 386
        },
        "id": "-EmNWr-0lVG0",
        "outputId": "586b6787-8d10-4c76-a071-2cfb830ee5e3"
      },
      "execution_count": null,
      "outputs": [
        {
          "output_type": "stream",
          "name": "stdout",
          "text": [
            "Brier Score: 0.24721763776437378\n",
            "ROC AUC Score: 0.7018758093461206\n",
            "Balanced Accuracy Score: 0.6463335268893511\n",
            "F1 Score: 0.5830506095428835\n",
            "Precision Score: 0.5456251422083878\n",
            "Recall Score: 0.6259883417388356\n"
          ]
        },
        {
          "output_type": "display_data",
          "data": {
            "text/plain": [
              "<Figure size 432x288 with 2 Axes>"
            ],
            "image/png": "[encoded data removed]"
          },
          "metadata": {
            "needs_background": "light"
          }
        }
      ]
    },
    {
      "cell_type": "code",
      "source": [
        "rf_prob = rf_model.predict_proba(standardized_test_sparse)\n",
        "cls_rf_prob = [i[1] for i in logit_prob]\n",
        "rf_pred = (logit_prob >= best_th).astype(int)\n",
        "rf_pred = [i[1] for i in rf_pred]\n",
        "cmat = confusion_matrix(test['rated'], rf_pred)\n",
        "evaluate(test['rated'], rf_pred, cls_rf_prob)\n",
        "plot_confusion_mat(cmat)"
      ],
      "metadata": {
        "colab": {
          "base_uri": "https://localhost:8080/",
          "height": 386
        },
        "id": "dXtWw8HrlVRP",
        "outputId": "40b71778-a027-4700-f987-7c29e39d1fb0"
      },
      "execution_count": null,
      "outputs": [
        {
          "output_type": "stream",
          "name": "stdout",
          "text": [
            "Brier Score: 0.2506162086956343\n",
            "ROC AUC Score: 0.5504140763444678\n",
            "Balanced Accuracy Score: 0.49999324078017954\n",
            "F1 Score: 0.5611655336550473\n",
            "Precision Score: 0.3900196667617105\n",
            "Recall Score: 0.9999625106610308\n"
          ]
        },
        {
          "output_type": "display_data",
          "data": {
            "text/plain": [
              "<Figure size 432x288 with 2 Axes>"
            ],
            "image/png": "[encoded data removed]"
          },
          "metadata": {
            "needs_background": "light"
          }
        }
      ]
    },
    {
      "cell_type": "markdown",
      "source": [
        "**LightGBM Classifier**"
      ],
      "metadata": {
        "id": "xLBl_7VqiWMx"
      }
    },
    {
      "cell_type": "code",
      "source": [
        "lgb_model = lgb.LGBMClassifier(class_weight=\"balanced\", n_estimators=500, n_jobs=-1, random_state=2)\n",
        "lgb_model.fit(standardized_train_sparse, train[\"rated\"])\n",
        "lgb_prob = lgb_model.predict_proba(standardized_valid_sparse)\n",
        "cls_lgb_prob = [i[1] for i in lgb_prob]\n",
        "fpr, tpr, ths, best_th = get_roc_curve(valid['rated'], cls_lgb_prob, \"LightGBM\")"
      ],
      "metadata": {
        "colab": {
          "base_uri": "https://localhost:8080/",
          "height": 297
        },
        "id": "qSV-UhRpAEd3",
        "outputId": "aed77dc9-756f-4657-b7e4-d41ee19cc777"
      },
      "execution_count": null,
      "outputs": [
        {
          "output_type": "stream",
          "name": "stdout",
          "text": [
            "Best Threshold=0.49340870743975174, G-Mean=0.6783373040222987\n"
          ]
        },
        {
          "output_type": "display_data",
          "data": {
            "text/plain": [
              "<Figure size 432x288 with 1 Axes>"
            ],
            "image/png": "[encoded data removed]"
          },
          "metadata": {
            "needs_background": "light"
          }
        }
      ]
    },
    {
      "cell_type": "code",
      "source": [
        "lgb_pred = (lgb_prob >= best_th).astype(int)\n",
        "lgb_pred = [i[1] for i in lgb_pred]\n",
        "cmat = confusion_matrix(valid['rated'], lgb_pred)\n",
        "evaluate(valid['rated'], lgb_pred, cls_lgb_prob)\n",
        "plot_confusion_mat(cmat)"
      ],
      "metadata": {
        "colab": {
          "base_uri": "https://localhost:8080/",
          "height": 386
        },
        "id": "zaTg5zxJAEng",
        "outputId": "710cee31-00a7-4c9a-9bc7-88cff1f530cc"
      },
      "execution_count": null,
      "outputs": [
        {
          "output_type": "stream",
          "name": "stdout",
          "text": [
            "Brier Score: 0.20485798046954867\n",
            "ROC AUC Score: 0.745671693269039\n",
            "Balanced Accuracy Score: 0.6785237135953138\n",
            "F1 Score: 0.6191183137906817\n",
            "Precision Score: 0.5809766921934698\n",
            "Recall Score: 0.6626198812604658\n"
          ]
        },
        {
          "output_type": "display_data",
          "data": {
            "text/plain": [
              "<Figure size 432x288 with 2 Axes>"
            ],
            "image/png": "[encoded data removed]"
          },
          "metadata": {
            "needs_background": "light"
          }
        }
      ]
    },
    {
      "cell_type": "code",
      "source": [
        "lgb_prob = lgb_model.predict_proba(standardized_test_sparse)\n",
        "cls_lgb_prob = [i[1] for i in lgb_prob]\n",
        "lgb_pred = (lgb_prob >= best_th).astype(int)\n",
        "lgb_pred = [i[1] for i in lgb_pred]\n",
        "cmat = confusion_matrix(test['rated'], lgb_pred)\n",
        "evaluate(test['rated'], lgb_pred, cls_lgb_prob)\n",
        "plot_confusion_mat(cmat)"
      ],
      "metadata": {
        "colab": {
          "base_uri": "https://localhost:8080/",
          "height": 386
        },
        "id": "hxj7r-UAQxU4",
        "outputId": "b5bc33b9-8da1-413d-8f88-9c941a628a1f"
      },
      "execution_count": null,
      "outputs": [
        {
          "output_type": "stream",
          "name": "stdout",
          "text": [
            "Brier Score: 0.20566016517851146\n",
            "ROC AUC Score: 0.7424195741610038\n",
            "Balanced Accuracy Score: 0.6760963849071646\n",
            "F1 Score: 0.6163211323365827\n",
            "Precision Score: 0.578453697233754\n",
            "Recall Score: 0.6594937064772205\n"
          ]
        },
        {
          "output_type": "display_data",
          "data": {
            "text/plain": [
              "<Figure size 432x288 with 2 Axes>"
            ],
            "image/png": "[encoded data removed]"
          },
          "metadata": {
            "needs_background": "light"
          }
        }
      ]
    },
    {
      "cell_type": "code",
      "source": [
        "lgb_prob = lgb_model.predict_proba(standardized_train_sparse)\n",
        "cls_lgb_prob = [i[1] for i in lgb_prob]\n",
        "lgb_pred = (lgb_prob >= best_th).astype(int)\n",
        "lgb_pred = [i[1] for i in lgb_pred]\n",
        "cmat = confusion_matrix(train['rated'], lgb_pred)\n",
        "evaluate(train['rated'], lgb_pred, cls_lgb_prob)\n",
        "plot_confusion_mat(cmat)"
      ],
      "metadata": {
        "id": "Ka4hR9nYYStE",
        "colab": {
          "base_uri": "https://localhost:8080/",
          "height": 386
        },
        "outputId": "b56d8419-0a53-482b-dc01-04d1148b8198"
      },
      "execution_count": null,
      "outputs": [
        {
          "output_type": "stream",
          "name": "stdout",
          "text": [
            "Brier Score: 0.20020774235617647\n",
            "ROC AUC Score: 0.761520421072265\n",
            "Balanced Accuracy Score: 0.6904974005636046\n",
            "F1 Score: 0.6326450747504438\n",
            "Precision Score: 0.5941095977822366\n",
            "Recall Score: 0.6765263118235006\n"
          ]
        },
        {
          "output_type": "display_data",
          "data": {
            "text/plain": [
              "<Figure size 432x288 with 2 Axes>"
            ],
            "image/png": "[encoded data removed]"
          },
          "metadata": {
            "needs_background": "light"
          }
        }
      ]
    },
    {
      "cell_type": "markdown",
      "source": [
        "**Hyper Parameter Tuning for LightGBM Model**\n"
      ],
      "metadata": {
        "id": "QsrHVnra6w2E"
      }
    },
    {
      "cell_type": "code",
      "source": [
        "param_space = {'n_estimators': [50, 100, 250, 400, 500],\n",
        "               'learning_rate': [0.001, 0.01, 0.1, 0.5, 0.9],\n",
        "               'num_leaves': np.arange(10, 200, 20),\n",
        "               }\n",
        "lgb_model = lgb.LGBMClassifier(class_weight=\"balanced\", random_state=2)\n",
        "random_cv = RandomizedSearchCV(estimator=lgb_model,\n",
        "                               param_distributions=param_space,\n",
        "                               scoring='roc_auc',\n",
        "                               n_iter=10, verbose=1)\n",
        "random_cv.fit(standardized_train_sparse, train[\"rated\"])\n",
        "print(\"Best parameters:\", random_cv.best_params_)"
      ],
      "metadata": {
        "id": "4sVqsqkyoa3e",
        "colab": {
          "base_uri": "https://localhost:8080/"
        },
        "outputId": "d578a44f-c7fd-486f-d2e5-7983e225c743"
      },
      "execution_count": null,
      "outputs": [
        {
          "output_type": "stream",
          "name": "stdout",
          "text": [
            "Fitting 5 folds for each of 10 candidates, totalling 50 fits\n"
          ]
        }
      ]
    },
    {
      "cell_type": "code",
      "source": [
        "# LGB_model with best parameters\n",
        "lgb_model = lgb.LGBMClassifier(class_weight=\"balanced\", n_jobs=-1, random_state=2)\n",
        "lgb_model.set_params(**random_cv.best_params_)\n",
        "lgb_model.fit(standardized_train_sparse, train[\"rated\"])"
      ],
      "metadata": {
        "id": "GQm_GI498NAJ"
      },
      "execution_count": null,
      "outputs": []
    },
    {
      "cell_type": "code",
      "source": [
        "lgb_prob = lgb_model.predict_proba(standardized_valid_sparse)\n",
        "cls_lgb_prob = [i[1] for i in lgb_prob]\n",
        "fpr, tpr, ths, best_th = get_roc_curve(valid[\"rated\"], cls_lgb_prob, \"LightGBM\")"
      ],
      "metadata": {
        "id": "RuzWV-bI8WNN"
      },
      "execution_count": null,
      "outputs": []
    },
    {
      "cell_type": "code",
      "source": [
        "lgb_pred = (lgb_prob >= best_th).astype(int)\n",
        "lgb_pred = [i[1] for i in lgb_pred]\n",
        "cmat = confusion_matrix(valid[\"rated\"], lgb_pred)\n",
        "evaluate(valid[\"rated\"], lgb_pred, cls_lgb_prob)\n",
        "plot_confusion_mat(cmat)"
      ],
      "metadata": {
        "id": "WOxECOoW8WUB"
      },
      "execution_count": null,
      "outputs": []
    },
    {
      "cell_type": "code",
      "source": [],
      "metadata": {
        "id": "CnUs9UHO-Jd-"
      },
      "execution_count": null,
      "outputs": []
    }
  ],
  "metadata": {
    "colab": {
      "provenance": []
    },
    "kernelspec": {
      "display_name": "Python 3",
      "name": "python3"
    },
    "language_info": {
      "name": "python"
    }
  },
  "nbformat": 4,
  "nbformat_minor": 0
}