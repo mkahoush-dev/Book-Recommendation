{
 "cells": [
  {
   "cell_type": "code",
   "execution_count": 2,
   "metadata": {},
   "outputs": [
    {
     "name": "stderr",
     "output_type": "stream",
     "text": [
      "Processing:   0%|          | 0/10 [00:00<?, ?it/s]"
     ]
    },
    {
     "name": "stdout",
     "output_type": "stream",
     "text": [
      "Finding similar users...\n",
      "Total users who've read the same books as user_0: 452891\n",
      "Total users who've read at least 35.0% of the books that user_0 has read: 1080\n",
      "Total books in filtered user list: 4160354\n",
      "\n",
      "Applying Collaborative Filtering\n",
      "Number of unique users: 1080\n",
      "Number of unique books: 704741\n",
      "Creating dictionary for user_0\n"
     ]
    },
    {
     "name": "stderr",
     "output_type": "stream",
     "text": [
      "Processing:  10%|█         | 1/10 [07:41<1:09:14, 461.65s/it]"
     ]
    },
    {
     "name": "stdout",
     "output_type": "stream",
     "text": [
      "Finding similar users...\n",
      "Total users who've read the same books as user_1440: 414461\n",
      "Total users who've read at least 35.0% of the books that user_1440 has read: 495\n",
      "Total books in filtered user list: 3889274\n",
      "\n",
      "Applying Collaborative Filtering\n",
      "Number of unique users: 495\n",
      "Number of unique books: 705829\n",
      "Creating dictionary for user_1440\n"
     ]
    },
    {
     "name": "stderr",
     "output_type": "stream",
     "text": [
      "Processing:  20%|██        | 2/10 [15:31<1:01:52, 464.12s/it]"
     ]
    },
    {
     "name": "stdout",
     "output_type": "stream",
     "text": [
      "Finding similar users...\n",
      "Total users who've read the same books as user_1830: 402151\n",
      "Total users who've read at least 35.0% of the books that user_1830 has read: 20502\n",
      "Total books in filtered user list: 25828356\n",
      "\n",
      "Applying Collaborative Filtering\n",
      "Number of unique users: 20502\n",
      "Number of unique books: 1110017\n",
      "Creating dictionary for user_1830\n"
     ]
    },
    {
     "name": "stderr",
     "output_type": "stream",
     "text": [
      "Processing:  30%|███       | 3/10 [30:11<1:08:41, 588.83s/it]"
     ]
    },
    {
     "name": "stdout",
     "output_type": "stream",
     "text": [
      "Finding similar users...\n",
      "Total users who've read the same books as user_2063: 407310\n",
      "Total users who've read at least 35.0% of the books that user_2063 has read: 4225\n",
      "Total books in filtered user list: 9801311\n",
      "\n",
      "Applying Collaborative Filtering\n",
      "Number of unique users: 4225\n",
      "Number of unique books: 921808\n",
      "Creating dictionary for user_2063\n"
     ]
    },
    {
     "name": "stderr",
     "output_type": "stream",
     "text": [
      "Processing:  40%|████      | 4/10 [39:32<58:03, 580.64s/it]  "
     ]
    },
    {
     "name": "stdout",
     "output_type": "stream",
     "text": [
      "Finding similar users...\n",
      "Total users who've read the same books as user_2518: 435162\n",
      "Total users who've read at least 35.0% of the books that user_2518 has read: 93\n",
      "Total books in filtered user list: 1238501\n",
      "\n",
      "Applying Collaborative Filtering\n",
      "Number of unique users: 93\n",
      "Number of unique books: 434985\n",
      "Creating dictionary for user_2518\n"
     ]
    },
    {
     "name": "stderr",
     "output_type": "stream",
     "text": [
      "Processing:  50%|█████     | 5/10 [46:18<44:00, 528.14s/it]"
     ]
    },
    {
     "name": "stdout",
     "output_type": "stream",
     "text": [
      "Finding similar users...\n",
      "Total users who've read the same books as user_2816: 305997\n",
      "Total users who've read at least 35.0% of the books that user_2816 has read: 57\n",
      "Total books in filtered user list: 1368991\n",
      "\n",
      "Applying Collaborative Filtering\n",
      "Number of unique users: 57\n",
      "Number of unique books: 482095\n",
      "Creating dictionary for user_2816\n"
     ]
    },
    {
     "name": "stderr",
     "output_type": "stream",
     "text": [
      "Processing:  60%|██████    | 6/10 [52:58<32:38, 489.60s/it]"
     ]
    },
    {
     "name": "stdout",
     "output_type": "stream",
     "text": [
      "Finding similar users...\n",
      "Total users who've read the same books as user_3075: 556299\n",
      "Total users who've read at least 35.0% of the books that user_3075 has read: 37057\n",
      "Total books in filtered user list: 39548892\n",
      "\n",
      "Applying Collaborative Filtering\n",
      "Number of unique users: 37057\n",
      "Number of unique books: 1331344\n",
      "Creating dictionary for user_3075\n"
     ]
    },
    {
     "name": "stderr",
     "output_type": "stream",
     "text": [
      "Processing:  70%|███████   | 7/10 [1:28:33<49:10, 983.34s/it]"
     ]
    },
    {
     "name": "stdout",
     "output_type": "stream",
     "text": [
      "Finding similar users...\n",
      "Total users who've read the same books as user_3732: 144288\n",
      "Total users who've read at least 35.0% of the books that user_3732 has read: 1043\n",
      "Total books in filtered user list: 4419263\n",
      "\n",
      "Applying Collaborative Filtering\n",
      "Number of unique users: 1043\n",
      "Number of unique books: 725213\n",
      "Creating dictionary for user_3732\n"
     ]
    },
    {
     "name": "stderr",
     "output_type": "stream",
     "text": [
      "Processing:  80%|████████  | 8/10 [1:35:45<27:16, 818.01s/it]"
     ]
    },
    {
     "name": "stdout",
     "output_type": "stream",
     "text": [
      "Finding similar users...\n",
      "Total users who've read the same books as user_4297: 254817\n",
      "Total users who've read at least 35.0% of the books that user_4297 has read: 745\n",
      "Total books in filtered user list: 4942811\n",
      "\n",
      "Applying Collaborative Filtering\n",
      "Number of unique users: 745\n",
      "Number of unique books: 708868\n",
      "Creating dictionary for user_4297\n"
     ]
    },
    {
     "name": "stderr",
     "output_type": "stream",
     "text": [
      "Processing:  90%|█████████ | 9/10 [1:47:56<13:11, 791.87s/it]"
     ]
    },
    {
     "name": "stdout",
     "output_type": "stream",
     "text": [
      "Finding similar users...\n",
      "Total users who've read the same books as user_4574: 229112\n",
      "Total users who've read at least 35.0% of the books that user_4574 has read: 604\n",
      "Total books in filtered user list: 3374688\n",
      "\n",
      "Applying Collaborative Filtering\n",
      "Number of unique users: 604\n",
      "Number of unique books: 683090\n",
      "Creating dictionary for user_4574\n"
     ]
    },
    {
     "name": "stderr",
     "output_type": "stream",
     "text": [
      "Processing: 100%|██████████| 10/10 [1:58:35<00:00, 711.52s/it]\n"
     ]
    },
    {
     "ename": "FileNotFoundError",
     "evalue": "[Errno 2] No such file or directory: './data/dict/top_recs.json'",
     "output_type": "error",
     "traceback": [
      "\u001b[1;31m---------------------------------------------------------------------------\u001b[0m",
      "\u001b[1;31mFileNotFoundError\u001b[0m                         Traceback (most recent call last)",
      "\u001b[1;32m<ipython-input-2-56398b075969>\u001b[0m in \u001b[0;36m<module>\u001b[1;34m\u001b[0m\n\u001b[0;32m     60\u001b[0m \u001b[1;33m\u001b[0m\u001b[0m\n\u001b[0;32m     61\u001b[0m \u001b[1;31m# save dictionary as JSON file\u001b[0m\u001b[1;33m\u001b[0m\u001b[1;33m\u001b[0m\u001b[1;33m\u001b[0m\u001b[0m\n\u001b[1;32m---> 62\u001b[1;33m \u001b[1;32mwith\u001b[0m \u001b[0mopen\u001b[0m\u001b[1;33m(\u001b[0m\u001b[1;34m'./data/dict/top_recs.json'\u001b[0m\u001b[1;33m,\u001b[0m \u001b[1;34m'w'\u001b[0m\u001b[1;33m)\u001b[0m \u001b[1;32mas\u001b[0m \u001b[0mf\u001b[0m\u001b[1;33m:\u001b[0m\u001b[1;33m\u001b[0m\u001b[1;33m\u001b[0m\u001b[0m\n\u001b[0m\u001b[0;32m     63\u001b[0m     \u001b[0mjson\u001b[0m\u001b[1;33m.\u001b[0m\u001b[0mdump\u001b[0m\u001b[1;33m(\u001b[0m\u001b[0mdictionary\u001b[0m\u001b[1;33m,\u001b[0m \u001b[0mf\u001b[0m\u001b[1;33m)\u001b[0m\u001b[1;33m\u001b[0m\u001b[1;33m\u001b[0m\u001b[0m\n\u001b[0;32m     64\u001b[0m \u001b[1;33m\u001b[0m\u001b[0m\n",
      "\u001b[1;31mFileNotFoundError\u001b[0m: [Errno 2] No such file or directory: './data/dict/top_recs.json'"
     ]
    }
   ],
   "source": [
    "import os\n",
    "import json\n",
    "import pandas as pd\n",
    "from tqdm import tqdm\n",
    "from script import GET_RECOMMENDATION\n",
    "import time\n",
    "import gc\n",
    "\n",
    "start = time.time()\n",
    "\n",
    "# Initialize book title:\n",
    "books_title = pd.read_json('./data/books_title.json')\n",
    "books_title['book_id'] = books_title['book_id'].astype(str)\n",
    "\n",
    "# file path for 10 test users\n",
    "path = './data/users/'\n",
    "\n",
    "# store test-train-top recommendation for each user. key = user_xxx\n",
    "dictionary = {} \n",
    "\n",
    "for file in tqdm(os.listdir(path), total = 10, desc = 'Processing', mininterval = 0.2):\n",
    "\n",
    "    file_path = os.path.join(path, file)\n",
    "    user_info = pd.read_csv(file_path)\n",
    "\n",
    "    # construct model class\n",
    "    recommend = GET_RECOMMENDATION(user = user_info, book_title = books_title, percentage = 35, split_size = 0.3, current_user = file[:-4])\n",
    "\n",
    "    csv_book_map = recommend.book_mapping()\n",
    "    filtered_users = recommend.similar_users(book_map = csv_book_map)\n",
    "    interaction_list = recommend.interactions(filtered_users, csv_book_map)\n",
    "    \n",
    "    # Free RAM\n",
    "    del csv_book_map\n",
    "    del filtered_users\n",
    "    gc.collect()\n",
    "\n",
    "    top_recommendations = recommend.collab_filter(interaction_list)\n",
    "    top_recommendations = top_recommendations['book_id'].to_numpy().astype(int)\n",
    "    \n",
    "    # create dictionary entry per user for evaluation purpose\n",
    "    train_data = recommend.get_train_set()\n",
    "    train_data = train_data['book_id'].to_numpy().astype(int)\n",
    "\n",
    "    test_data = recommend.get_test_set()\n",
    "    test_data = test_data['book_id'].to_numpy().astype(int)\n",
    "\n",
    "    print ('Creating dictionary for ' + file[:-4])\n",
    "    dictionary[file[:-4]] = [train_data.tolist(), test_data.tolist(), top_recommendations.tolist()]\n",
    "    \n",
    "    # clear variables to free up memory\n",
    "    del recommend\n",
    "    del interaction_list\n",
    "    del top_recommendations\n",
    "    del train_data\n",
    "    del test_data\n",
    "    gc.collect()\n",
    "    \n",
    "    time.sleep(3)\n",
    "\n",
    "# save dictionary as JSON file\n",
    "with open('./data/dict/top_recs.json', 'w') as f:\n",
    "    json.dump(dictionary, f)\n",
    "\n",
    "print ('Finished Process in {:.3f} min'.format((time.time() - start)/60.0))"
   ]
  },
  {
   "cell_type": "code",
   "execution_count": null,
   "metadata": {},
   "outputs": [],
   "source": [
    "# To load this\n",
    "# with open('./data/dict/top_recs.json') as file:\n",
    "#       data = json.load(file)\n",
    "\n",
    "'''\n",
    "    dictionary contains each of the 10 users with training data @ index 0, testing data @ index 1 and top N recommendations @ index 2\n",
    "    We can now see how many matches we get between index 1 and index 0.\n",
    "\n",
    "    To improve accuracy, we can try to increase percentage (arg for GET_RECOMMENDATION). See script.py for other possible hyperparameter.\n",
    "'''"
   ]
  },
  {
   "cell_type": "code",
   "execution_count": null,
   "metadata": {},
   "outputs": [
    {
     "data": {
      "image/png": "[encoded data removed]",
      "text/plain": [
       "<Figure size 720x504 with 1 Axes>"
      ]
     },
     "metadata": {
      "needs_background": "light"
     },
     "output_type": "display_data"
    }
   ],
   "source": [
    "import json\n",
    "import numpy as np\n",
    "import matplotlib.pyplot as plt\n",
    "from sklearn.metrics import precision_score, recall_score, f1_score\n",
    "\n",
    "with open('./data/dict/top_recs35%.json') as file:\n",
    "    data = json.load(file)\n",
    "\n",
    "matched_books = {}\n",
    "\n",
    "for user in (data.keys()):\n",
    "    test = np.array(data[user][1])\n",
    "    recs = np.array(data[user][2])\n",
    "    count = 0\n",
    "\n",
    "    for i in range(len(recs)):\n",
    "        for j in range(len(test)):\n",
    "            if recs[i] == test[j]:\n",
    "                count += 1\n",
    "    \n",
    "    matched_books[user] = count\n",
    "\n",
    "names = []\n",
    "performance = []\n",
    "for user in (matched_books):\n",
    "    names.append(user)\n",
    "    performance.append(matched_books[user])\n",
    "\n",
    "\n",
    "y_pos = np.arange(len(names))\n",
    "\n",
    "plt.figure(figsize=(10,7))\n",
    "plt.tight_layout()\n",
    "plt.barh(y_pos, performance, align = 'center', alpha = 0.5, color = 'blue')\n",
    "plt.yticks(y_pos, names, fontsize = 12)\n",
    "plt.xlabel('Number of matched predictions out of 12 test bookset for each user', fontsize = 13)\n",
    "plt.title('Collaborative Filter Performance', fontsize = 15)\n",
    "plt.savefig('35% result.jpg')\n",
    "plt.show()"
   ]
  },
  {
   "cell_type": "code",
   "execution_count": null,
   "metadata": {},
   "outputs": [
    {
     "data": {
      "image/png": "[encoded data removed]",
      "text/plain": [
       "<Figure size 720x504 with 1 Axes>"
      ]
     },
     "metadata": {
      "needs_background": "light"
     },
     "output_type": "display_data"
    }
   ],
   "source": [
    "import json\n",
    "import numpy as np\n",
    "import matplotlib.pyplot as plt\n",
    "from sklearn.metrics import precision_score, recall_score, f1_score\n",
    "\n",
    "with open('./data/dict/top_recs20%.json') as file:\n",
    "    data = json.load(file)\n",
    "\n",
    "matched_books = {}\n",
    "\n",
    "for user in (data.keys()):\n",
    "    test = np.array(data[user][1])\n",
    "    recs = np.array(data[user][2])\n",
    "    count = 0\n",
    "\n",
    "    for i in range(len(recs)):\n",
    "        for j in range(len(test)):\n",
    "            if recs[i] == test[j]:\n",
    "                count += 1\n",
    "    \n",
    "    matched_books[user] = count\n",
    "\n",
    "names = []\n",
    "performance = []\n",
    "for user in (matched_books):\n",
    "    names.append(user)\n",
    "    performance.append(matched_books[user])\n",
    "\n",
    "\n",
    "y_pos = np.arange(len(names))\n",
    "\n",
    "plt.figure(figsize=(10,7))\n",
    "plt.tight_layout()\n",
    "plt.barh(y_pos, performance, align = 'center', alpha = 0.5, color = 'blue')\n",
    "plt.yticks(y_pos, names, fontsize = 12)\n",
    "plt.xlabel('Number of matched predictions out of 12 test bookset for each user', fontsize = 13)\n",
    "plt.title('Collaborative Filter Performance', fontsize = 15)\n",
    "plt.savefig('20% result.jpg')\n",
    "plt.show()"
   ]
  }
 ],
 "metadata": {
  "kernelspec": {
   "display_name": "Python 3.8.10 64-bit (microsoft store)",
   "language": "python",
   "name": "python3"
  },
  "language_info": {
   "codemirror_mode": {
    "name": "ipython",
    "version": 3
   },
   "file_extension": ".py",
   "mimetype": "text/x-python",
   "name": "python",
   "nbconvert_exporter": "python",
   "pygments_lexer": "ipython3",
   "version": "3.8.10"
  },
  "orig_nbformat": 4,
  "vscode": {
   "interpreter": {
    "hash": "95a22eaad15357b8581a3e85dc7deb44b392b83f2a0c98c7572069d11874febe"
   }
  }
 },
 "nbformat": 4,
 "nbformat_minor": 2
}
